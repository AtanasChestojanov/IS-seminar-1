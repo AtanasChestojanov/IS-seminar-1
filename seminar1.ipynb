{
 "cells": [
  {
   "cell_type": "code",
   "execution_count": 39,
   "metadata": {},
   "outputs": [],
   "source": [
    "# %pip install seaborn\n",
    "import pandas as pd\n",
    "import matplotlib.pyplot as plt\n",
    "import seaborn as sns\n",
    "import matplotlib\n",
    "import numpy as np\n",
    "import pygad"
   ]
  },
  {
   "cell_type": "code",
   "execution_count": 4,
   "metadata": {},
   "outputs": [
    {
     "data": {
      "text/html": [
       "<div>\n",
       "<style scoped>\n",
       "    .dataframe tbody tr th:only-of-type {\n",
       "        vertical-align: middle;\n",
       "    }\n",
       "\n",
       "    .dataframe tbody tr th {\n",
       "        vertical-align: top;\n",
       "    }\n",
       "\n",
       "    .dataframe thead th {\n",
       "        text-align: right;\n",
       "    }\n",
       "</style>\n",
       "<table border=\"1\" class=\"dataframe\">\n",
       "  <thead>\n",
       "    <tr style=\"text-align: right;\">\n",
       "      <th></th>\n",
       "      <th>dataset_id</th>\n",
       "      <th>num_papers</th>\n",
       "      <th>num_reviewers</th>\n",
       "      <th>reviewer_capacity</th>\n",
       "      <th>min_reviews_per_paper</th>\n",
       "      <th>max_reviews_per_paper</th>\n",
       "      <th>preferences</th>\n",
       "      <th>friendships</th>\n",
       "      <th>authorship</th>\n",
       "    </tr>\n",
       "  </thead>\n",
       "  <tbody>\n",
       "    <tr>\n",
       "      <th>0</th>\n",
       "      <td>Easy Dataset 1</td>\n",
       "      <td>5</td>\n",
       "      <td>5</td>\n",
       "      <td>3</td>\n",
       "      <td>3</td>\n",
       "      <td>5</td>\n",
       "      <td>[3, 2, 1, 5, 3]</td>\n",
       "      <td>[0, 0, 0, 0, 0]</td>\n",
       "      <td>[0, 0, 0, 0, 0]</td>\n",
       "    </tr>\n",
       "    <tr>\n",
       "      <th>1</th>\n",
       "      <td>Easy Dataset 1</td>\n",
       "      <td>5</td>\n",
       "      <td>5</td>\n",
       "      <td>3</td>\n",
       "      <td>3</td>\n",
       "      <td>5</td>\n",
       "      <td>[5, 2, 4, 2, 2]</td>\n",
       "      <td>[0, 0, 1, 0, 0]</td>\n",
       "      <td>[0, 1, 0, 0, 0]</td>\n",
       "    </tr>\n",
       "    <tr>\n",
       "      <th>2</th>\n",
       "      <td>Easy Dataset 1</td>\n",
       "      <td>5</td>\n",
       "      <td>5</td>\n",
       "      <td>3</td>\n",
       "      <td>3</td>\n",
       "      <td>5</td>\n",
       "      <td>[4, 3, 1, 2, 4]</td>\n",
       "      <td>[0, 1, 0, 0, 0]</td>\n",
       "      <td>[0, 0, 0, 0, 0]</td>\n",
       "    </tr>\n",
       "    <tr>\n",
       "      <th>3</th>\n",
       "      <td>Easy Dataset 1</td>\n",
       "      <td>5</td>\n",
       "      <td>5</td>\n",
       "      <td>3</td>\n",
       "      <td>3</td>\n",
       "      <td>5</td>\n",
       "      <td>[4, 2, 2, 1, 1]</td>\n",
       "      <td>[0, 0, 0, 0, 0]</td>\n",
       "      <td>[1, 1, 0, 0, 1]</td>\n",
       "    </tr>\n",
       "    <tr>\n",
       "      <th>4</th>\n",
       "      <td>Easy Dataset 1</td>\n",
       "      <td>5</td>\n",
       "      <td>5</td>\n",
       "      <td>3</td>\n",
       "      <td>3</td>\n",
       "      <td>5</td>\n",
       "      <td>[4, 3, 4, 1, 5]</td>\n",
       "      <td>[0, 0, 0, 0, 0]</td>\n",
       "      <td>[0, 0, 1, 1, 0]</td>\n",
       "    </tr>\n",
       "  </tbody>\n",
       "</table>\n",
       "</div>"
      ],
      "text/plain": [
       "       dataset_id  num_papers  num_reviewers  reviewer_capacity  \\\n",
       "0  Easy Dataset 1           5              5                  3   \n",
       "1  Easy Dataset 1           5              5                  3   \n",
       "2  Easy Dataset 1           5              5                  3   \n",
       "3  Easy Dataset 1           5              5                  3   \n",
       "4  Easy Dataset 1           5              5                  3   \n",
       "\n",
       "   min_reviews_per_paper  max_reviews_per_paper      preferences  \\\n",
       "0                      3                      5  [3, 2, 1, 5, 3]   \n",
       "1                      3                      5  [5, 2, 4, 2, 2]   \n",
       "2                      3                      5  [4, 3, 1, 2, 4]   \n",
       "3                      3                      5  [4, 2, 2, 1, 1]   \n",
       "4                      3                      5  [4, 3, 4, 1, 5]   \n",
       "\n",
       "       friendships       authorship  \n",
       "0  [0, 0, 0, 0, 0]  [0, 0, 0, 0, 0]  \n",
       "1  [0, 0, 1, 0, 0]  [0, 1, 0, 0, 0]  \n",
       "2  [0, 1, 0, 0, 0]  [0, 0, 0, 0, 0]  \n",
       "3  [0, 0, 0, 0, 0]  [1, 1, 0, 0, 1]  \n",
       "4  [0, 0, 0, 0, 0]  [0, 0, 1, 1, 0]  "
      ]
     },
     "execution_count": 4,
     "metadata": {},
     "output_type": "execute_result"
    }
   ],
   "source": [
    "ds = pd.read_json(\"datasets/easy_dataset_1.json\")\n",
    "ds"
   ]
  },
  {
   "cell_type": "code",
   "execution_count": 34,
   "metadata": {},
   "outputs": [],
   "source": [
    "def extract_data(file_path):\n",
    "    ds = pd.read_json(file_path)\n",
    "    preferences = np.array([list(row) for row in ds[\"preferences\"]])\n",
    "    friendships = np.array([list(row) for row in ds[\"friendships\"]])\n",
    "    authorship = np.array([list(row) for row in ds[\"authorship\"]])\n",
    "    return  preferences, friendships, authorship\n"
   ]
  },
  {
   "cell_type": "code",
   "execution_count": 38,
   "metadata": {},
   "outputs": [],
   "source": [
    "preferences, friendships, authorship = extract_data(\"datasets/easy_dataset_1.json\")\n",
    "# print(authorship)\n",
    "# print(authorship.shape)\n",
    "\n",
    "num_authors = authorship.shape[0]\n",
    "num_papers = authorship.shape[1]\n",
    "solution_matrix = np.zeros((num_authors, num_papers))"
   ]
  },
  {
   "cell_type": "code",
   "execution_count": 42,
   "metadata": {},
   "outputs": [],
   "source": [
    "def fitness_function_impl(assignment, preferences, capacity, min_reviews, max_reviews, friendships, authorship):\n",
    "    # Total Preference Score\n",
    "    preference_score = np.sum(assignment * preferences)\n",
    "\n",
    "    # Capacity Violation\n",
    "    capacity_violation = np.sum(np.maximum(0, np.sum(assignment, axis=1) - capacity))\n",
    "\n",
    "    # Review Violations\n",
    "    reviews_per_paper = np.sum(assignment, axis=0)\n",
    "    review_violation = np.sum(np.maximum(0, min_reviews - reviews_per_paper)) + \\\n",
    "                       np.sum(np.maximum(0, reviews_per_paper - max_reviews))\n",
    "\n",
    "    # Friendship Joint Review Violation\n",
    "    friendship_violation = 0\n",
    "    for i in range(len(friendships)):\n",
    "        for j in range(len(friendships)):\n",
    "            if friendships[i][j] == 1:\n",
    "                # Penalize if both friends review the same paper\n",
    "                friendship_violation += np.sum(assignment[i] * assignment[j])\n",
    "\n",
    "    # Friends Reviewing Each Other's Papers\n",
    "    friends_authorship_violation = 0\n",
    "    num_reviewers, num_papers = assignment.shape\n",
    "    for reviewer in range(num_reviewers):\n",
    "        for paper in range(num_papers):\n",
    "            # Check if any of the reviewer's friends authored the paper\n",
    "            for friend in range(num_reviewers):\n",
    "                if friendships[reviewer][friend] == 1 and authorship[friend][paper] == 1:\n",
    "                    # Penalize if the reviewer is assigned to the paper\n",
    "                    friends_authorship_violation += assignment[reviewer][paper]\n",
    "\n",
    "    # Authorship Violation\n",
    "    authorship_violation = np.sum(assignment * authorship)\n",
    "\n",
    "    # Weights for penalties\n",
    "    w1, w2, w3, w4, w5 = 10, 10, 50, 50, 50\n",
    "\n",
    "    # Fitness\n",
    "    fitness = preference_score - (w1 * capacity_violation + w2 * review_violation +\n",
    "                                   w3 * friendship_violation + w4 * friends_authorship_violation +\n",
    "                                   w5 * authorship_violation)\n",
    "    return fitness"
   ]
  },
  {
   "cell_type": "code",
   "execution_count": 48,
   "metadata": {},
   "outputs": [
    {
     "name": "stdout",
     "output_type": "stream",
     "text": [
      "3\n"
     ]
    }
   ],
   "source": [
    "capacity = ds[\"reviewer_capacity\"][0]\n",
    "min_reviews = ds[\"min_reviews_per_paper\"][0]\n",
    "max_reviews = ds[\"max_reviews_per_paper\"][0]\n",
    "num_reviewers, num_papers = preferences.shape\n",
    "num_genes = num_reviewers * num_papers\n",
    "\n",
    "def fitness_function(ga_instance, solution, solution_idx):\n",
    "    # Reshape the 1D solution to a 2D assignment matrix\n",
    "    assignment = solution.reshape((num_reviewers, num_papers))\n",
    "    \n",
    "    # Ensure binary values in the assignment matrix\n",
    "    assignment = np.clip(assignment, 0, 1)\n",
    "\n",
    "    # Calculate fitness using the provided fitness function\n",
    "    return fitness_function_impl(\n",
    "        assignment,\n",
    "        preferences,\n",
    "        capacity,\n",
    "        min_reviews,\n",
    "        max_reviews,\n",
    "        friendships,\n",
    "        authorship\n",
    "    )\n",
    "\n",
    "print(capacity)"
   ]
  },
  {
   "cell_type": "code",
   "execution_count": 49,
   "metadata": {},
   "outputs": [
    {
     "name": "stdout",
     "output_type": "stream",
     "text": [
      "Random Solution Matrix:\n",
      " [[1 0 1 0 1]\n",
      " [1 0 1 1 0]\n",
      " [0 1 1 1 0]\n",
      " [1 0 0 1 1]\n",
      " [1 0 1 0 1]]\n"
     ]
    }
   ],
   "source": [
    "def generate_random_solution(num_reviewers, num_papers, reviewer_capacity):\n",
    "    solution = np.zeros((num_reviewers, num_papers), dtype=int)\n",
    "    for reviewer in range(num_reviewers):\n",
    "        # Randomly assign up to 'reviewer_capacity' papers to each reviewer\n",
    "        papers_to_assign = np.random.choice(num_papers, reviewer_capacity, replace=False)\n",
    "        solution[reviewer, papers_to_assign] = 1\n",
    "    return solution\n",
    "\n",
    "random_solution = generate_random_solution(num_reviewers, num_papers, capacity)\n",
    "print(\"Random Solution Matrix:\\n\", random_solution)"
   ]
  },
  {
   "cell_type": "code",
   "execution_count": 50,
   "metadata": {},
   "outputs": [
    {
     "name": "stderr",
     "output_type": "stream",
     "text": [
      "C:\\Users\\User\\AppData\\Local\\Packages\\PythonSoftwareFoundation.Python.3.11_qbz5n2kfra8p0\\LocalCache\\local-packages\\Python311\\site-packages\\pygad\\pygad.py:1139: UserWarning: The 'delay_after_gen' parameter is deprecated starting from PyGAD 3.3.0. To delay or pause the evolution after each generation, assign a callback function/method to the 'on_generation' parameter to adds some time delay.\n",
      "  warnings.warn(\"The 'delay_after_gen' parameter is deprecated starting from PyGAD 3.3.0. To delay or pause the evolution after each generation, assign a callback function/method to the 'on_generation' parameter to adds some time delay.\")\n"
     ]
    }
   ],
   "source": [
    "ga_instance = pygad.GA(\n",
    "    num_generations=100,              # Number of generations\n",
    "    num_parents_mating=10,            # Number of parents mating\n",
    "    fitness_func=fitness_function,    # Fitness function\n",
    "    sol_per_pop=20,                   # Population size\n",
    "    num_genes=num_genes,              # Number of genes (flattened assignment matrix)\n",
    "    gene_type=int,                    # Gene type (binary)\n",
    "    init_range_low=0,                 # Lower bound for gene values\n",
    "    init_range_high=1,                # Upper bound for gene values\n",
    "    parent_selection_type=\"tournament\", # Parent selection method\n",
    "    crossover_type=\"single_point\",    # Crossover method\n",
    "    mutation_type=\"random\",           # Mutation method\n",
    "    mutation_percent_genes=10         # Mutation rate\n",
    ")\n",
    "\n",
    "# Run the genetic algorithm\n",
    "ga_instance.run()"
   ]
  },
  {
   "cell_type": "code",
   "execution_count": 52,
   "metadata": {},
   "outputs": [
    {
     "name": "stdout",
     "output_type": "stream",
     "text": [
      "Best solution fitness: -150\n",
      "Best Assignment Matrix:\n",
      " [[0 0 0 0 0]\n",
      " [0 0 0 0 0]\n",
      " [0 0 0 0 0]\n",
      " [0 0 0 0 0]\n",
      " [0 0 0 0 0]]\n"
     ]
    },
    {
     "name": "stderr",
     "output_type": "stream",
     "text": [
      "C:\\Users\\User\\AppData\\Local\\Packages\\PythonSoftwareFoundation.Python.3.11_qbz5n2kfra8p0\\LocalCache\\local-packages\\Python311\\site-packages\\pygad\\visualize\\plot.py:109: UserWarning: No artists with labels found to put in legend.  Note that artists whose label start with an underscore are ignored when legend() is called with no argument.\n",
      "  matplotlib.pyplot.legend()\n"
     ]
    },
    {
     "data": {
      "image/png": "[encoded data removed]",
      "text/plain": [
       "<Figure size 640x480 with 1 Axes>"
      ]
     },
     "metadata": {},
     "output_type": "display_data"
    },
    {
     "data": {
      "image/png": "[encoded data removed]",
      "text/plain": [
       "<Figure size 640x480 with 1 Axes>"
      ]
     },
     "execution_count": 52,
     "metadata": {},
     "output_type": "execute_result"
    }
   ],
   "source": [
    "solution, solution_fitness, solution_idx = ga_instance.best_solution()\n",
    "print(\"Best solution fitness:\", solution_fitness)\n",
    "\n",
    "# Reshape the solution into the assignment matrix\n",
    "best_assignment = solution.reshape((num_reviewers, num_papers))\n",
    "print(\"Best Assignment Matrix:\\n\", best_assignment)\n",
    "ga_instance.plot_fitness()"
   ]
  }
 ],
 "metadata": {
  "kernelspec": {
   "display_name": "Python 3",
   "language": "python",
   "name": "python3"
  },
  "language_info": {
   "codemirror_mode": {
    "name": "ipython",
    "version": 3
   },
   "file_extension": ".py",
   "mimetype": "text/x-python",
   "name": "python",
   "nbconvert_exporter": "python",
   "pygments_lexer": "ipython3",
   "version": "3.11.9"
  }
 },
 "nbformat": 4,
 "nbformat_minor": 2
}
